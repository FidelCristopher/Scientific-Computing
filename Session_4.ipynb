{
  "nbformat": 4,
  "nbformat_minor": 0,
  "metadata": {
    "colab": {
      "provenance": [],
      "authorship_tag": "ABX9TyNlRJckKqgeaBu4xJrK6M0P",
      "include_colab_link": true
    },
    "kernelspec": {
      "name": "python3",
      "display_name": "Python 3"
    },
    "language_info": {
      "name": "python"
    }
  },
  "cells": [
    {
      "cell_type": "markdown",
      "metadata": {
        "id": "view-in-github",
        "colab_type": "text"
      },
      "source": [
        "<a href=\"https://colab.research.google.com/github/FidelCristopher/Scientific-Computing/blob/main/Session_4.ipynb\" target=\"_parent\"><img src=\"https://colab.research.google.com/assets/colab-badge.svg\" alt=\"Open In Colab\"/></a>"
      ]
    },
    {
      "cell_type": "code",
      "execution_count": null,
      "metadata": {
        "id": "5DGM500ksyZ9"
      },
      "outputs": [],
      "source": [
        "import numpy as np\n",
        "def my_bisection (f, a, b, tol):\n",
        "  #approximate a root, R. of f bounded\n",
        "  #by a and b to within tolerance\n",
        "  #|f(n)|<tol with m the midpoint\n",
        "  #between a and b recursive implementation\n",
        "\n",
        "  #check if a and b bound a root\n",
        "  if np.sign(f(a))==np.sign(f(b)):\n",
        "    raise Exception(\n",
        "        \"The scalars a and b do not bound a root\")\n",
        "\n",
        "  #get midpoint\n",
        "  m=(a+b)/2\n",
        "\n",
        "  if np.abs(f(m))<tol:\n",
        "    #stopping condition, report m as root\n",
        "    return m\n",
        "  elif np.sign(f(a))==np.sign(f(m)):\n",
        "    #case where m is an improvement on a\n",
        "    #make recursive call with a=m\n",
        "    return my_bisection(f, m, b, tol)\n",
        "  elif np.sign(f(b))==np.sign(f(m)):\n",
        "    #case where m is an improvement on b\n",
        "    #make recursive call with b=m\n",
        "    return my_bisection(f, a, m, tol)"
      ]
    },
    {
      "cell_type": "code",
      "source": [
        "f=lambda x: x**2-2\n",
        "\n",
        "r1 = my_bisection(f, 0, 2, 0.1)\n",
        "print(\"r1=\", r1)\n",
        "r01=my_bisection(f, 0, 2, 0.01)\n",
        "print(\"r01=\", r01)\n",
        "\n",
        "print(\"f(r1)=\", f(r1))\n",
        "print(\"f(r01)=\", f(r01))"
      ],
      "metadata": {
        "colab": {
          "base_uri": "https://localhost:8080/"
        },
        "id": "Rn5uqWcFv9U3",
        "outputId": "527a385c-14d3-4bb8-932e-aa7665015732"
      },
      "execution_count": null,
      "outputs": [
        {
          "output_type": "stream",
          "name": "stdout",
          "text": [
            "r1= 1.4375\n",
            "r01= 1.4140625\n",
            "f(r1)= 0.06640625\n",
            "f(r01)= -0.00042724609375\n"
          ]
        }
      ]
    },
    {
      "cell_type": "markdown",
      "source": [
        "Newton Raphson"
      ],
      "metadata": {
        "id": "RlVwVQ2Fyxkp"
      }
    },
    {
      "cell_type": "code",
      "source": [
        "from re import X\n",
        "import numpy as np\n",
        "\n",
        "f = lambda x: x**2-2\n",
        "f_prime = lambda x: 2*x\n",
        "newton_raphson = 1.4-(f(1.4))/(f_prime(1.4))\n",
        "\n",
        "print(\"newton_raphson=\", newton_raphson)\n",
        "print(\"sqrt(2)=\", np.sqrt(2))"
      ],
      "metadata": {
        "colab": {
          "base_uri": "https://localhost:8080/"
        },
        "id": "P0RcJoZMy0O6",
        "outputId": "2bef27fb-7b67-4a12-f0f6-4bc45afcb301"
      },
      "execution_count": null,
      "outputs": [
        {
          "output_type": "stream",
          "name": "stdout",
          "text": [
            "newton_raphson= 1.4142857142857144\n",
            "sqrt(2)= 1.4142135623730951\n"
          ]
        }
      ]
    },
    {
      "cell_type": "code",
      "source": [
        "def my_newton(f, df, x0, tol):\n",
        "  #output is an estimation of the root of f\n",
        "  #using the newton raphson method\n",
        "  #recursive implementation\n",
        "\n",
        "  if abs(f(x0))<tol:\n",
        "    return x0\n",
        "  else:\n",
        "    return my_newton(f, df, x0-f(x0)/df(x0), tol)"
      ],
      "metadata": {
        "id": "yrddGrQJ0oEo"
      },
      "execution_count": null,
      "outputs": []
    },
    {
      "cell_type": "code",
      "source": [
        "estimate = my_newton(f, f_prime, 1.5, 1e-6)\n",
        "print(\"estimate=\", estimate)\n",
        "print(\"sqrt(2)=\", np.sqrt(2))"
      ],
      "metadata": {
        "colab": {
          "base_uri": "https://localhost:8080/"
        },
        "id": "0bW765A_1ETT",
        "outputId": "ce75c1bf-fc53-4a26-8eb5-c4ab12796ce5"
      },
      "execution_count": null,
      "outputs": [
        {
          "output_type": "stream",
          "name": "stdout",
          "text": [
            "estimate= 1.4142135623746899\n",
            "sqrt(2)= 1.4142135623730951\n"
          ]
        }
      ]
    },
    {
      "cell_type": "markdown",
      "source": [
        "Quiz Bisection\n",
        "f(x) = sin(x)-x\n",
        "[a,b] = [0,1]\n",
        "tol = 0.01"
      ],
      "metadata": {
        "id": "iVZEPLnV2ABi"
      }
    },
    {
      "cell_type": "code",
      "source": [
        "import numpy as np\n",
        "\n",
        "def my_bisection(f, a, b, tol):\n",
        "    if np.sign(f(a)) == np.sign(f(b)):\n",
        "        raise Exception(\"The scalars a and b do not bound a root\")\n",
        "\n",
        "    m = (a + b) / 2\n",
        "\n",
        "    if np.abs(f(m)) < tol:\n",
        "        return m\n",
        "    elif np.sign(f(a)) == np.sign(f(m)):\n",
        "        return my_bisection(f, m, b, tol)\n",
        "    elif np.sign(f(b)) == np.sign(f(m)):\n",
        "        return my_bisection(f, a, m, tol)\n",
        "\n",
        "f_quiz = lambda x: np.sin(x) - x\n",
        "\n",
        "a = 0\n",
        "b = 1\n",
        "tol = 0.01\n",
        "\n",
        "root = my_bisection(f_quiz, a, b, tol)\n",
        "\n",
        "print(\"Akar hampiran =\", root)\n",
        "print(\"f(akar) =\", f_quiz(root))\n"
      ],
      "metadata": {
        "id": "A_NNbUbg2K4S",
        "colab": {
          "base_uri": "https://localhost:8080/"
        },
        "outputId": "c5c45c06-44ac-45bb-b903-15ea62da939d"
      },
      "execution_count": null,
      "outputs": [
        {
          "output_type": "stream",
          "name": "stdout",
          "text": [
            "Akar hampiran = 0.25\n",
            "f(akar) = -0.002596040745477063\n"
          ]
        }
      ]
    },
    {
      "cell_type": "code",
      "source": [
        "import numpy as np\n",
        "\n",
        "f = lambda x: x**3 - 3*x**2 + 2*x\n",
        "f_prime = lambda x: 3*x**2 - 6*x + 2\n",
        "\n",
        "def my_newton(f, df, x0, tol):\n",
        "    if abs(f(x0)) < tol:\n",
        "        return x0\n",
        "    else:\n",
        "        return my_newton(f, df, x0 - f(x0)/df(x0), tol)\n",
        "\n",
        "x0 = 1.5\n",
        "tol = 0.01\n",
        "\n",
        "estimate = my_newton(f, f_prime, x0, tol)\n",
        "\n",
        "print(\"Estimate =\", estimate)\n",
        "print(\"f(Estimate) =\", f(estimate))\n"
      ],
      "metadata": {
        "id": "pYt-DuANIERr",
        "outputId": "e47161ad-1078-4514-94b8-f327c8ce7452",
        "colab": {
          "base_uri": "https://localhost:8080/"
        }
      },
      "execution_count": null,
      "outputs": [
        {
          "output_type": "stream",
          "name": "stdout",
          "text": [
            "Estimate = 0.0\n",
            "f(Estimate) = 0.0\n"
          ]
        }
      ]
    }
  ]
}